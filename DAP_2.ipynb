{
  "nbformat": 4,
  "nbformat_minor": 0,
  "metadata": {
    "colab": {
      "name": "DAP 2.ipynb",
      "provenance": [],
      "collapsed_sections": [],
      "include_colab_link": true
    },
    "kernelspec": {
      "name": "python3",
      "display_name": "Python 3"
    },
    "language_info": {
      "name": "python"
    }
  },
  "cells": [
    {
      "cell_type": "markdown",
      "metadata": {
        "id": "view-in-github",
        "colab_type": "text"
      },
      "source": [
        "<a href=\"https://colab.research.google.com/github/AnnaAsritha/Dap-files/blob/main/DAP_2.ipynb\" target=\"_parent\"><img src=\"https://colab.research.google.com/assets/colab-badge.svg\" alt=\"Open In Colab\"/></a>"
      ]
    },
    {
      "cell_type": "code",
      "metadata": {
        "colab": {
          "base_uri": "https://localhost:8080/"
        },
        "id": "wiXt-8ryrfti",
        "outputId": "b99ae199-ffdb-4727-bf7c-82fb7dec7615"
      },
      "source": [
        "def show():\n",
        "  s = [[str(e) for e in row] for row in h]\n",
        "  lens = [max(map(len, col)) for col in zip(*s)]\n",
        "  fmt = '\\t'.join('{{:{}}}'.format(x) for x in lens)\n",
        "  table = [fmt.format(*row) for row in s]\n",
        "  print('\\n'.join(table))\n",
        "  \n",
        "def checkInven():\n",
        "  for i in range(1,len(h)):\n",
        "    if(h[i][2]<=5):\n",
        "      print(\"\\nStock replinished\")\n",
        "      h[i][2]=20\n",
        "\n",
        "h=[['Name','Price','Quantity', 'Manufacturer'],['earphone',500,20,'Boat'],['Headphones',1000,15,'Sony'],['Monitor',2500,10,'Logitech'],['MS Office 2021',1000,25,'Microsoft']]\n",
        "n='a'\n",
        "cost=0\n",
        "while(n!='e'):\n",
        "  checkInven()\n",
        "  print(\"\\nStock is\\n\")\n",
        "  show()\n",
        "  n=input(\"\\np : Buy\\nc : Stock\\ne : exit\\n\")\n",
        "  if(n=='p'):\n",
        "    a=int(input(\"Select an Option (1=earphone, 2=headphone..) \"))\n",
        "    if(a>4):\n",
        "      print(\"Oh no! Seems like you chose wrong option. Try again.\")\n",
        "      continue\n",
        "    count=int(input(\"How many units do you want us to serve you with? \"))\n",
        "    if(h[a][2]<count):\n",
        "      print(\"Sorry.. we're running out of stocks!!\")\n",
        "    else:\n",
        "      h[a][2]-=count\n",
        "      print(\"Thankyou for Shopping\")\n",
        "      cost+=h[a][1]*count\n",
        "  elif(n=='c'):\n",
        "    b=int(input(\"Select an option (1=earphone, 2=headphone..) \"))\n",
        "    if(b>4):\n",
        "      print(\"Incorrect option. Try again.\")\n",
        "      continue\n",
        "    print(\"Stock Left is \",h[b][2])\n",
        "  elif(n=='e'):\n",
        "    pass\n",
        "  else:\n",
        "    print(\"Oh no! Seems like you chose wrong option. Try again.\")\n",
        "print(\"\\nYour total bill is \",cost,\"\\nThank you,Visit us Again.\")"
      ],
      "execution_count": null,
      "outputs": [
        {
          "output_type": "stream",
          "text": [
            "\n",
            "Stock is\n",
            "\n",
            "Name          \tPrice\tQuantity\tManufacturer\n",
            "earphone      \t500  \t20      \tBoat        \n",
            "Headphones    \t1000 \t15      \tSony        \n",
            "Monitor       \t2500 \t10      \tLogitech    \n",
            "MS Office 2021\t1000 \t25      \tMicrosoft   \n",
            "\n",
            "p : Buy\n",
            "c : Stock\n",
            "e : exit\n",
            "e\n",
            "\n",
            "Your total bill is  0 \n",
            "Thank you,Visit us Again.\n"
          ],
          "name": "stdout"
        }
      ]
    },
    {
      "cell_type": "code",
      "metadata": {
        "colab": {
          "base_uri": "https://localhost:8080/"
        },
        "id": "egorr-xT9o8c",
        "outputId": "82d4d292-1b28-40f2-ef85-c34724e5b8ac"
      },
      "source": [
        "deli=['Zomato','Swiggy','Behrouz Biryani']\n",
        "foo=['Pizza','crispy Chicken','Hyderabadi Dum Biryani']\n",
        "pri=[120,100,200]\n",
        "repeat='y'\n",
        "while(repeat!='n'):\n",
        "  user=int(input(\"1. Zomato\\n2. Swiggy\\n3. Behrouz Biryani\\nEnter your preferred delivery partner \"))\n",
        "  choice=int(input(\"\\n1. Pizza : 120/-\\n2. crispy Chicken : 100/-\\n3. Hyderabadi Dum Biryani : 200/-\\nEnter your choice \"))\n",
        "  loc=input(\"\\nEnter your address \")\n",
        "  print(\"\\nYour order for\",foo[choice-1],\"has been placed on\",deli[user-1],\"and will get delivered\",loc,\"\\nYour Bill for the order is \",pri[choice-1])\n",
        "  repeat=input(\"Do you wish to order again? (y/n)\\n\")"
      ],
      "execution_count": null,
      "outputs": [
        {
          "output_type": "stream",
          "text": [
            "1. Zomato\n",
            "2. Swiggy\n",
            "3. Behrouz Biryani\n",
            "Enter your preferred delivery partner 1\n",
            "\n",
            "1. Pizza : 120/-\n",
            "2. crispy Chicken : 100/-\n",
            "3. Hyderabadi Dum Biryani : 200/-\n",
            "Enter your choice 1\n",
            "\n",
            "Enter your address abc\n",
            "\n",
            "Your order for Pizza has been placed on Zomato and will get delivered abc \n",
            "Your Bill for the order is  120\n",
            "Do you wish to order again? (y/n)\n",
            "n\n"
          ],
          "name": "stdout"
        }
      ]
    },
    {
      "cell_type": "code",
      "metadata": {
        "id": "41Fw8XJtAH-B"
      },
      "source": [
        ""
      ],
      "execution_count": null,
      "outputs": []
    },
    {
      "cell_type": "code",
      "metadata": {
        "colab": {
          "base_uri": "https://localhost:8080/"
        },
        "id": "wEINlsUm_Cqy",
        "outputId": "7b5c9122-9723-4156-b05b-06302e65ab72"
      },
      "source": [
        "utilities=input(\"Enter all bills to be shared separated with a comma\\n\")\n",
        "l1=utilities.split(\",\")\n",
        "l2=[]\n",
        "sum=0\n",
        "n=int(input(\"Enter no. of tenants \"))\n",
        "n+=1\n",
        "for i in range(len(l1)):\n",
        "  print(\"Enter total amount for\",l1[i],\"bill \")\n",
        "  l2.append(float(input()))\n",
        "for i in range(len(l1)):\n",
        "  sum+=round(l2[i]/n,2)\n",
        "  print(\"The\",l1[i],\"bill is split as\",round(l2[i]/n,2),\"per head\")\n",
        "print(\"\\nThe total per head is\",sum)"
      ],
      "execution_count": null,
      "outputs": [
        {
          "output_type": "stream",
          "text": [
            "Enter all bills to be shared separated with a comma\n",
            "1,2,3,4,\n",
            "Enter no. of tenants 2\n",
            "Enter total amount for 1 bill \n",
            "100\n",
            "Enter total amount for 2 bill \n",
            "100\n",
            "Enter total amount for 3 bill \n",
            "100\n",
            "Enter total amount for 4 bill \n",
            "100\n",
            "Enter total amount for  bill \n",
            "1000\n",
            "The 1 bill is split as 33.33 per head\n",
            "The 2 bill is split as 33.33 per head\n",
            "The 3 bill is split as 33.33 per head\n",
            "The 4 bill is split as 33.33 per head\n",
            "The  bill is split as 333.33 per head\n",
            "\n",
            "The total per head is 466.65\n"
          ],
          "name": "stdout"
        }
      ]
    },
    {
      "cell_type": "code",
      "metadata": {
        "colab": {
          "base_uri": "https://localhost:8080/"
        },
        "id": "XjPSdLKMAJmm",
        "outputId": "f2020ac7-b1aa-4ff2-8a29-5108d6dd0fd4"
      },
      "source": [
        "ch=str(input(\"\\\"Do you want to recharge?\\n Y-Yes and any key-No\"))\n",
        "if ch=='Y' or ch=='y':\n",
        "  opt=int(input(\"Press 1 for prepaid and any key for postpaid\"))\n",
        "  if opt==1:\n",
        "    no=int(input(\"Enter mobile no\"))\n",
        "    operator=int(input(\"Choose your operator\\n1. Jio \\n2. Airtel\\n3.Vi\"))\n",
        "    amt=int(input(\"Choose a recharge amt\\n399 : 1.5 GB data/day for 84 days\\n 299 : 1 GB data/day for 56 days\\n 199 : 1 GB data/day for 30 days\"))\n",
        "    confirm=int(input(\"Press 1 to confirm and any key to cancel\"))\n",
        "    if confirm==1:\n",
        "      print(\"Your recharge for no {} for amt {} has been succesfull!\".format(no,amt))"
      ],
      "execution_count": null,
      "outputs": [
        {
          "output_type": "stream",
          "text": [
            "\"Do you want to recharge?\n",
            " Y-Yes and any key-Noy\n",
            "Press 1 for prepaid and any key for postpaid1\n",
            "Enter mobile no1234\n",
            "Choose your operator\n",
            "1. Jio \n",
            "2. Airtel\n",
            "3.Vi1\n",
            "Choose a recharge amt\n",
            "399 : 1.5 GB data/day for 84 days\n",
            " 299 : 1 GB data/day for 56 days\n",
            " 199 : 1 GB data/day for 30 days399\n",
            "Press 1 to confirm and any key to cancel1\n",
            "Your recharge for no 1234 for amt 399 has been succesfull!\n"
          ],
          "name": "stdout"
        }
      ]
    }
  ]
}