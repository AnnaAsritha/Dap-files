{
  "nbformat": 4,
  "nbformat_minor": 5,
  "metadata": {
    "kernelspec": {
      "display_name": "Python 3",
      "language": "python",
      "name": "python3"
    },
    "language_info": {
      "codemirror_mode": {
        "name": "ipython",
        "version": 3
      },
      "file_extension": ".py",
      "mimetype": "text/x-python",
      "name": "python",
      "nbconvert_exporter": "python",
      "pygments_lexer": "ipython3",
      "version": "3.8.8"
    },
    "colab": {
      "name": "Copy of numpy concat, stack.ipynb",
      "provenance": [],
      "include_colab_link": true
    }
  },
  "cells": [
    {
      "cell_type": "markdown",
      "metadata": {
        "id": "view-in-github",
        "colab_type": "text"
      },
      "source": [
        "<a href=\"https://colab.research.google.com/github/AnnaAsritha/Dap-files/blob/main/numpy_concat%2C_stack.ipynb\" target=\"_parent\"><img src=\"https://colab.research.google.com/assets/colab-badge.svg\" alt=\"Open In Colab\"/></a>"
      ]
    },
    {
      "cell_type": "code",
      "metadata": {
        "id": "05a59e93",
        "outputId": "415596a1-cb89-42db-f6c4-74aa0ee454e4"
      },
      "source": [
        "import numpy as np\n",
        "\n",
        "arr1 = np.array([1, 2, 3])\n",
        "\n",
        "arr2 = np.array([4, 5, 6])\n",
        "\n",
        "arr = np.concatenate((arr1, arr2))\n",
        "\n",
        "print(arr) "
      ],
      "id": "05a59e93",
      "execution_count": null,
      "outputs": [
        {
          "name": "stdout",
          "output_type": "stream",
          "text": [
            "[1 2 3 4 5 6]\n"
          ]
        }
      ]
    },
    {
      "cell_type": "code",
      "metadata": {
        "id": "59617e1e",
        "outputId": "23ebb7e1-574e-45f3-b62a-316d786bd92b"
      },
      "source": [
        "import numpy as np\n",
        "\n",
        "arr1 = np.array([[1, 2], [3, 4]])\n",
        "\n",
        "print(\"arr1=\", arr1) \n",
        "\n",
        "arr2 = np.array([[5, 6], [7, 8]])\n",
        "\n",
        "print(\"arr2=\", arr2) \n",
        "\n",
        "print(\"after concatenation =\")\n",
        "\n",
        "arr = np.concatenate((arr1, arr2), axis=1) #0=row, 1=col\n",
        "\n",
        "print(arr) "
      ],
      "id": "59617e1e",
      "execution_count": null,
      "outputs": [
        {
          "name": "stdout",
          "output_type": "stream",
          "text": [
            "arr1= [[1 2]\n",
            " [3 4]]\n",
            "arr2= [[5 6]\n",
            " [7 8]]\n",
            "after concatenation =\n",
            "[[1 2 5 6]\n",
            " [3 4 7 8]]\n"
          ]
        }
      ]
    },
    {
      "cell_type": "code",
      "metadata": {
        "id": "253e2b79",
        "outputId": "1428ae3f-bc91-41e9-9906-97f9c840e1f5"
      },
      "source": [
        "import numpy as np\n",
        "\n",
        "arr1 = np.array([[1, 2], [3, 4]])\n",
        "\n",
        "print(\"arr1=\", arr1) \n",
        "\n",
        "arr2 = np.array([[5, 6], [7, 8]])\n",
        "\n",
        "print(\"arr2=\", arr2) \n",
        "\n",
        "print(\"after concatenation =\")\n",
        "arr = np.concatenate((arr1, arr2), axis=0) #0=row, 1=col\n",
        "\n",
        "print(arr) "
      ],
      "id": "253e2b79",
      "execution_count": null,
      "outputs": [
        {
          "name": "stdout",
          "output_type": "stream",
          "text": [
            "arr1= [[1 2]\n",
            " [3 4]]\n",
            "arr2= [[5 6]\n",
            " [7 8]]\n",
            "after concatenation =\n",
            "[[1 2]\n",
            " [3 4]\n",
            " [5 6]\n",
            " [7 8]]\n"
          ]
        }
      ]
    },
    {
      "cell_type": "code",
      "metadata": {
        "id": "c774320c",
        "outputId": "4447bc10-9e89-4158-cfd0-1181cab9f12c"
      },
      "source": [
        "import numpy as np\n",
        "\n",
        "arr1 = np.array([1, 2, 3])\n",
        "\n",
        "arr2 = np.array([4, 5, 6])\n",
        "\n",
        "arr = np.hstack((arr1, arr2))\n",
        "\n",
        "print(arr) "
      ],
      "id": "c774320c",
      "execution_count": null,
      "outputs": [
        {
          "name": "stdout",
          "output_type": "stream",
          "text": [
            "[1 2 3 4 5 6]\n"
          ]
        }
      ]
    },
    {
      "cell_type": "code",
      "metadata": {
        "id": "57677231",
        "outputId": "ea2c7767-47ed-47a4-da34-74e1c927f861"
      },
      "source": [
        "import numpy as np\n",
        "\n",
        "arr1 = np.array([1, 2, 3])\n",
        "\n",
        "arr2 = np.array([4, 5, 6])\n",
        "\n",
        "arr = np.vstack((arr1, arr2))\n",
        "\n",
        "print(arr) "
      ],
      "id": "57677231",
      "execution_count": null,
      "outputs": [
        {
          "name": "stdout",
          "output_type": "stream",
          "text": [
            "[[1 2 3]\n",
            " [4 5 6]]\n"
          ]
        }
      ]
    },
    {
      "cell_type": "code",
      "metadata": {
        "id": "b5d1d082",
        "outputId": "e41032d8-30f9-490a-8cb7-a7f83c112f6d"
      },
      "source": [
        "a = np.array([1,2,3])\n",
        "\n",
        "b = np.array([4,5,6])\n",
        "\n",
        "print(\"hstack =\", np.hstack((a,b)))\n",
        "\n",
        "print(\"vstack =\", np.vstack((a,b)))\n",
        "\n",
        "a = np.array([[1],[2],[3]])\n",
        "\n",
        "b = np.array([[4],[5],[6]])\n",
        "\n",
        "print(\"hstack =\", np.hstack((a,b)))\n",
        "\n",
        "print(\"vstack =\", np.vstack((a,b)))\n"
      ],
      "id": "b5d1d082",
      "execution_count": null,
      "outputs": [
        {
          "name": "stdout",
          "output_type": "stream",
          "text": [
            "hstack = [1 2 3 4 5 6]\n",
            "vstack = [[1 2 3]\n",
            " [4 5 6]]\n",
            "hstack = [[1 4]\n",
            " [2 5]\n",
            " [3 6]]\n",
            "vstack = [[1]\n",
            " [2]\n",
            " [3]\n",
            " [4]\n",
            " [5]\n",
            " [6]]\n"
          ]
        }
      ]
    },
    {
      "cell_type": "code",
      "metadata": {
        "id": "36aba148",
        "outputId": "3bc5abd7-0e98-45a9-9163-32431a9223a8"
      },
      "source": [
        "a = np.array([[1,2,3],[11,22,33],[111,222,333],[1111,2222,3333]])\n",
        "\n",
        "b = np.array([[7,8,9],[77,88,99],[777,888,999],[7777,8888,9999]])\n",
        "\n",
        "print(\"\\nhstack =\\n\", np.hstack((a,b)))\n",
        "\n",
        "print(\"\\n======next print======\")\n",
        "\n",
        "print(\"\\nvstack =\\n\", np.vstack((a,b)))\n",
        "\n",
        "arr = np.concatenate((a, b), axis=0)\n",
        "\n",
        "print(\"\\n======next print======\")\n",
        "\n",
        "print(\"\\n concatenate at axis 0=\\n\",arr)\n",
        "\n",
        "arr1 = np.concatenate((a, b), axis=1)\n",
        "\n",
        "print(\"\\n======next print======\")\n",
        "\n",
        "print(\"\\n concatenate at axis 1=\\n\",arr1)"
      ],
      "id": "36aba148",
      "execution_count": null,
      "outputs": [
        {
          "name": "stdout",
          "output_type": "stream",
          "text": [
            "\n",
            "hstack =\n",
            " [[   1    2    3    7    8    9]\n",
            " [  11   22   33   77   88   99]\n",
            " [ 111  222  333  777  888  999]\n",
            " [1111 2222 3333 7777 8888 9999]]\n",
            "\n",
            "======next print======\n",
            "\n",
            "vstack =\n",
            " [[   1    2    3]\n",
            " [  11   22   33]\n",
            " [ 111  222  333]\n",
            " [1111 2222 3333]\n",
            " [   7    8    9]\n",
            " [  77   88   99]\n",
            " [ 777  888  999]\n",
            " [7777 8888 9999]]\n",
            "\n",
            "======next print======\n",
            "\n",
            " concatenate at axis 0=\n",
            " [[   1    2    3]\n",
            " [  11   22   33]\n",
            " [ 111  222  333]\n",
            " [1111 2222 3333]\n",
            " [   7    8    9]\n",
            " [  77   88   99]\n",
            " [ 777  888  999]\n",
            " [7777 8888 9999]]\n",
            "\n",
            "======next print======\n",
            "\n",
            " concatenate at axis 1=\n",
            " [[   1    2    3    7    8    9]\n",
            " [  11   22   33   77   88   99]\n",
            " [ 111  222  333  777  888  999]\n",
            " [1111 2222 3333 7777 8888 9999]]\n"
          ]
        }
      ]
    },
    {
      "cell_type": "code",
      "metadata": {
        "id": "193038d9",
        "outputId": "775c3f28-0efb-4bcb-83fc-6ecd46ffe543"
      },
      "source": [
        "a= np.array([[1, 2, 3], [4, 5, 6]])\n",
        "print(a)"
      ],
      "id": "193038d9",
      "execution_count": null,
      "outputs": [
        {
          "name": "stdout",
          "output_type": "stream",
          "text": [
            "[[1 2 3]\n",
            " [4 5 6]]\n"
          ]
        }
      ]
    },
    {
      "cell_type": "code",
      "metadata": {
        "id": "c7325a2c",
        "outputId": "7b164e7a-33a8-48c0-a259-b594f4f08df5"
      },
      "source": [
        "b = np.array([7,8,9])\n",
        "print(b)"
      ],
      "id": "c7325a2c",
      "execution_count": null,
      "outputs": [
        {
          "name": "stdout",
          "output_type": "stream",
          "text": [
            "[7 8 9]\n"
          ]
        }
      ]
    },
    {
      "cell_type": "code",
      "metadata": {
        "id": "bd5da924",
        "outputId": "a3a0ad70-c7dc-4349-fc06-3e10192148de"
      },
      "source": [
        "c = np.array([[7,8,9]])\n",
        "print(c)"
      ],
      "id": "bd5da924",
      "execution_count": null,
      "outputs": [
        {
          "name": "stdout",
          "output_type": "stream",
          "text": [
            "[[7 8 9]]\n"
          ]
        }
      ]
    },
    {
      "cell_type": "code",
      "metadata": {
        "id": "df9f416f",
        "outputId": "8123d780-9994-46b4-b951-2da8edd0d284"
      },
      "source": [
        "np.append(a,b, axis=0)"
      ],
      "id": "df9f416f",
      "execution_count": null,
      "outputs": [
        {
          "ename": "ValueError",
          "evalue": "all the input arrays must have same number of dimensions, but the array at index 0 has 2 dimension(s) and the array at index 1 has 1 dimension(s)",
          "output_type": "error",
          "traceback": [
            "\u001b[1;31m---------------------------------------------------------------------------\u001b[0m",
            "\u001b[1;31mValueError\u001b[0m                                Traceback (most recent call last)",
            "\u001b[1;32m<ipython-input-27-b9eb344211ed>\u001b[0m in \u001b[0;36m<module>\u001b[1;34m\u001b[0m\n\u001b[1;32m----> 1\u001b[1;33m \u001b[0mnp\u001b[0m\u001b[1;33m.\u001b[0m\u001b[0mappend\u001b[0m\u001b[1;33m(\u001b[0m\u001b[0ma\u001b[0m\u001b[1;33m,\u001b[0m\u001b[0mb\u001b[0m\u001b[1;33m,\u001b[0m \u001b[0maxis\u001b[0m\u001b[1;33m=\u001b[0m\u001b[1;36m0\u001b[0m\u001b[1;33m)\u001b[0m\u001b[1;33m\u001b[0m\u001b[1;33m\u001b[0m\u001b[0m\n\u001b[0m",
            "\u001b[1;32m<__array_function__ internals>\u001b[0m in \u001b[0;36mappend\u001b[1;34m(*args, **kwargs)\u001b[0m\n",
            "\u001b[1;32m~\\anaconda3\\lib\\site-packages\\numpy\\lib\\function_base.py\u001b[0m in \u001b[0;36mappend\u001b[1;34m(arr, values, axis)\u001b[0m\n\u001b[0;32m   4743\u001b[0m         \u001b[0mvalues\u001b[0m \u001b[1;33m=\u001b[0m \u001b[0mravel\u001b[0m\u001b[1;33m(\u001b[0m\u001b[0mvalues\u001b[0m\u001b[1;33m)\u001b[0m\u001b[1;33m\u001b[0m\u001b[1;33m\u001b[0m\u001b[0m\n\u001b[0;32m   4744\u001b[0m         \u001b[0maxis\u001b[0m \u001b[1;33m=\u001b[0m \u001b[0marr\u001b[0m\u001b[1;33m.\u001b[0m\u001b[0mndim\u001b[0m\u001b[1;33m-\u001b[0m\u001b[1;36m1\u001b[0m\u001b[1;33m\u001b[0m\u001b[1;33m\u001b[0m\u001b[0m\n\u001b[1;32m-> 4745\u001b[1;33m     \u001b[1;32mreturn\u001b[0m \u001b[0mconcatenate\u001b[0m\u001b[1;33m(\u001b[0m\u001b[1;33m(\u001b[0m\u001b[0marr\u001b[0m\u001b[1;33m,\u001b[0m \u001b[0mvalues\u001b[0m\u001b[1;33m)\u001b[0m\u001b[1;33m,\u001b[0m \u001b[0maxis\u001b[0m\u001b[1;33m=\u001b[0m\u001b[0maxis\u001b[0m\u001b[1;33m)\u001b[0m\u001b[1;33m\u001b[0m\u001b[1;33m\u001b[0m\u001b[0m\n\u001b[0m\u001b[0;32m   4746\u001b[0m \u001b[1;33m\u001b[0m\u001b[0m\n\u001b[0;32m   4747\u001b[0m \u001b[1;33m\u001b[0m\u001b[0m\n",
            "\u001b[1;32m<__array_function__ internals>\u001b[0m in \u001b[0;36mconcatenate\u001b[1;34m(*args, **kwargs)\u001b[0m\n",
            "\u001b[1;31mValueError\u001b[0m: all the input arrays must have same number of dimensions, but the array at index 0 has 2 dimension(s) and the array at index 1 has 1 dimension(s)"
          ]
        }
      ]
    },
    {
      "cell_type": "code",
      "metadata": {
        "id": "1f4a3c1d",
        "outputId": "e70c1538-1686-45bd-c7d5-66476aad706b"
      },
      "source": [
        "np.append(a,c, axis=0)"
      ],
      "id": "1f4a3c1d",
      "execution_count": null,
      "outputs": [
        {
          "data": {
            "text/plain": [
              "array([[1, 2, 3],\n",
              "       [4, 5, 6],\n",
              "       [7, 8, 9]])"
            ]
          },
          "execution_count": 28,
          "metadata": {},
          "output_type": "execute_result"
        }
      ]
    },
    {
      "cell_type": "code",
      "metadata": {
        "id": "9034c8a5",
        "outputId": "142a5261-d187-4e45-df75-057899b658f2"
      },
      "source": [
        "import numpy as np\n",
        "a = np.array([1,2,3])\n",
        "b = np.array([5,6])\n",
        "np.concatenate((a,b))"
      ],
      "id": "9034c8a5",
      "execution_count": null,
      "outputs": [
        {
          "data": {
            "text/plain": [
              "array([1, 2, 3, 5, 6])"
            ]
          },
          "execution_count": 36,
          "metadata": {},
          "output_type": "execute_result"
        }
      ]
    },
    {
      "cell_type": "code",
      "metadata": {
        "id": "74195f3c",
        "outputId": "96eafc27-3447-4f7f-eb36-8d890369ba01"
      },
      "source": [
        "np.r_[a,b]"
      ],
      "id": "74195f3c",
      "execution_count": null,
      "outputs": [
        {
          "data": {
            "text/plain": [
              "array([1, 2, 3, 5, 6])"
            ]
          },
          "execution_count": 37,
          "metadata": {},
          "output_type": "execute_result"
        }
      ]
    },
    {
      "cell_type": "code",
      "metadata": {
        "id": "d2a94578",
        "outputId": "422776a5-19d1-4a78-c382-7eee9d288ca0"
      },
      "source": [
        "a = np.array([1, 2,3])\n",
        "b = np.array([5, 6,7])\n",
        "np.stack([a,b]).reshape(-1)"
      ],
      "id": "d2a94578",
      "execution_count": null,
      "outputs": [
        {
          "data": {
            "text/plain": [
              "array([1, 2, 3, 5, 6, 7])"
            ]
          },
          "execution_count": 45,
          "metadata": {},
          "output_type": "execute_result"
        }
      ]
    },
    {
      "cell_type": "code",
      "metadata": {
        "id": "92731993",
        "outputId": "7e7faf1b-9da4-4d62-9d1e-089660e44cd3"
      },
      "source": [
        "a = np.array([1, 2,3])\n",
        "b = np.array([5, 6,7])\n",
        "np.stack([a,b])"
      ],
      "id": "92731993",
      "execution_count": null,
      "outputs": [
        {
          "data": {
            "text/plain": [
              "array([[1, 2, 3],\n",
              "       [5, 6, 7]])"
            ]
          },
          "execution_count": 46,
          "metadata": {},
          "output_type": "execute_result"
        }
      ]
    },
    {
      "cell_type": "code",
      "metadata": {
        "id": "e3d49a13",
        "outputId": "c246d9d7-a5fb-49b9-c6e8-612a86dcbbf6"
      },
      "source": [
        "print()"
      ],
      "id": "e3d49a13",
      "execution_count": null,
      "outputs": [
        {
          "name": "stdout",
          "output_type": "stream",
          "text": [
            "\n"
          ]
        }
      ]
    },
    {
      "cell_type": "code",
      "metadata": {
        "id": "22f9070a",
        "outputId": "976510f0-671b-48c8-fc6c-68e8ff6eace2"
      },
      "source": [
        "a = np.array([[1,2,3],[11,22,33],[111,222,333],[1111,2222,3333]])\n",
        "\n",
        "b = np.array([[7,8,9],[77,88,99],[777,888,999],[7777,8888,9999]])\n",
        "\n",
        "print(\"\\nhstack =\\n\", np.hstack((a,b)))\n",
        "\n",
        "print(\"\\n======next print======\")\n",
        "\n",
        "print(\"\\nvstack =\\n\", np.vstack((a,b)))"
      ],
      "id": "22f9070a",
      "execution_count": null,
      "outputs": [
        {
          "name": "stdout",
          "output_type": "stream",
          "text": [
            "\n",
            "hstack =\n",
            " [[   1    2    3    7    8    9]\n",
            " [  11   22   33   77   88   99]\n",
            " [ 111  222  333  777  888  999]\n",
            " [1111 2222 3333 7777 8888 9999]]\n",
            "\n",
            "======next print======\n",
            "\n",
            "vstack =\n",
            " [[   1    2    3]\n",
            " [  11   22   33]\n",
            " [ 111  222  333]\n",
            " [1111 2222 3333]\n",
            " [   7    8    9]\n",
            " [  77   88   99]\n",
            " [ 777  888  999]\n",
            " [7777 8888 9999]]\n"
          ]
        }
      ]
    },
    {
      "cell_type": "code",
      "metadata": {
        "id": "5dc5b6ed",
        "outputId": "27f71544-4558-40d8-c19d-3846f16751a0"
      },
      "source": [
        "a = np.array([[1],[2],[3]])\n",
        "\n",
        "b = np.array([[8],[9],[10]])\n",
        "\n",
        "print(\"\\nhstack =\\n\", np.hstack((a,b)))\n",
        "\n",
        "print(\"\\n======next print======\")\n",
        "\n",
        "print(\"\\nvstack =\\n\", np.vstack((a,b)))"
      ],
      "id": "5dc5b6ed",
      "execution_count": null,
      "outputs": [
        {
          "name": "stdout",
          "output_type": "stream",
          "text": [
            "\n",
            "hstack =\n",
            " [[ 1  8]\n",
            " [ 2  9]\n",
            " [ 3 10]]\n",
            "\n",
            "======next print======\n",
            "\n",
            "vstack =\n",
            " [[ 1]\n",
            " [ 2]\n",
            " [ 3]\n",
            " [ 8]\n",
            " [ 9]\n",
            " [10]]\n"
          ]
        }
      ]
    },
    {
      "cell_type": "code",
      "metadata": {
        "id": "919b13f6",
        "outputId": "be4614b8-f353-43fd-928d-92e291019d52"
      },
      "source": [
        "a = np.array([[1,2],[3,4]])\n",
        "\n",
        "b = np.array([[5,6],[7,8]])\n",
        "\n",
        "print(\"\\nhstack =\\n\", np.hstack((a,b)))\n",
        "\n",
        "print(\"\\n======next print======\")\n",
        "\n",
        "print(\"\\nvstack =\\n\", np.vstack((a,b)))"
      ],
      "id": "919b13f6",
      "execution_count": null,
      "outputs": [
        {
          "name": "stdout",
          "output_type": "stream",
          "text": [
            "\n",
            "hstack =\n",
            " [[1 2 5 6]\n",
            " [3 4 7 8]]\n",
            "\n",
            "======next print======\n",
            "\n",
            "vstack =\n",
            " [[1 2]\n",
            " [3 4]\n",
            " [5 6]\n",
            " [7 8]]\n"
          ]
        }
      ]
    },
    {
      "cell_type": "code",
      "metadata": {
        "id": "d3613750",
        "outputId": "e965abd6-3e4b-4f01-eb77-31216b82ec7f"
      },
      "source": [
        "import numpy as np\n",
        "a = np.array([[1, 2], [3, 4]])\n",
        "b = np.array([[5, 6]])\n",
        "np.concatenate((a, b), axis=0)"
      ],
      "id": "d3613750",
      "execution_count": null,
      "outputs": [
        {
          "data": {
            "text/plain": [
              "array([[1, 2],\n",
              "       [3, 4],\n",
              "       [5, 6]])"
            ]
          },
          "execution_count": 54,
          "metadata": {},
          "output_type": "execute_result"
        }
      ]
    },
    {
      "cell_type": "code",
      "metadata": {
        "id": "2b19fc52",
        "outputId": "7ab95cb4-ee1a-47d1-fe9f-833e38b5571c"
      },
      "source": [
        "np.vstack((a,b))"
      ],
      "id": "2b19fc52",
      "execution_count": null,
      "outputs": [
        {
          "data": {
            "text/plain": [
              "array([[1, 2],\n",
              "       [3, 4],\n",
              "       [5, 6]])"
            ]
          },
          "execution_count": 55,
          "metadata": {},
          "output_type": "execute_result"
        }
      ]
    },
    {
      "cell_type": "code",
      "metadata": {
        "id": "2d18f152",
        "outputId": "3023a6b1-427a-4592-84b0-1e68fb6d7a0a"
      },
      "source": [
        "np.concatenate((a, b), axis=1)"
      ],
      "id": "2d18f152",
      "execution_count": null,
      "outputs": [
        {
          "ename": "ValueError",
          "evalue": "all the input array dimensions for the concatenation axis must match exactly, but along dimension 0, the array at index 0 has size 2 and the array at index 1 has size 1",
          "output_type": "error",
          "traceback": [
            "\u001b[1;31m---------------------------------------------------------------------------\u001b[0m",
            "\u001b[1;31mValueError\u001b[0m                                Traceback (most recent call last)",
            "\u001b[1;32m<ipython-input-56-ab47451b2341>\u001b[0m in \u001b[0;36m<module>\u001b[1;34m\u001b[0m\n\u001b[1;32m----> 1\u001b[1;33m \u001b[0mnp\u001b[0m\u001b[1;33m.\u001b[0m\u001b[0mconcatenate\u001b[0m\u001b[1;33m(\u001b[0m\u001b[1;33m(\u001b[0m\u001b[0ma\u001b[0m\u001b[1;33m,\u001b[0m \u001b[0mb\u001b[0m\u001b[1;33m)\u001b[0m\u001b[1;33m,\u001b[0m \u001b[0maxis\u001b[0m\u001b[1;33m=\u001b[0m\u001b[1;36m1\u001b[0m\u001b[1;33m)\u001b[0m\u001b[1;33m\u001b[0m\u001b[1;33m\u001b[0m\u001b[0m\n\u001b[0m",
            "\u001b[1;32m<__array_function__ internals>\u001b[0m in \u001b[0;36mconcatenate\u001b[1;34m(*args, **kwargs)\u001b[0m\n",
            "\u001b[1;31mValueError\u001b[0m: all the input array dimensions for the concatenation axis must match exactly, but along dimension 0, the array at index 0 has size 2 and the array at index 1 has size 1"
          ]
        }
      ]
    },
    {
      "cell_type": "code",
      "metadata": {
        "id": "c1ccf1ad",
        "outputId": "67caa6df-cee4-48a4-fb8b-a39880c2a610"
      },
      "source": [
        "np.concatenate((a, b.T), axis=1)"
      ],
      "id": "c1ccf1ad",
      "execution_count": null,
      "outputs": [
        {
          "data": {
            "text/plain": [
              "array([[1, 2, 5],\n",
              "       [3, 4, 6]])"
            ]
          },
          "execution_count": 57,
          "metadata": {},
          "output_type": "execute_result"
        }
      ]
    },
    {
      "cell_type": "code",
      "metadata": {
        "id": "37576cda",
        "outputId": "62781231-4d8b-40e8-cefb-f1f5f0603ed4"
      },
      "source": [
        "import numpy as np\n",
        "a = np.array([[1, 2], [3, 4]])\n",
        "b = np.array([5, 6])\n",
        "bb= np.array([[5, 6],[7,8]])\n",
        "cc=b.T\n",
        "\n",
        "print(\"vstack=\",np.vstack((a,cc)))\n",
        "\n",
        "print(\"hstack=\",np.hstack((a,bb)))"
      ],
      "id": "37576cda",
      "execution_count": null,
      "outputs": [
        {
          "name": "stdout",
          "output_type": "stream",
          "text": [
            "vstack= [[1 2]\n",
            " [3 4]\n",
            " [5 6]]\n",
            "hstack= [[1 2 5 6]\n",
            " [3 4 7 8]]\n"
          ]
        }
      ]
    },
    {
      "cell_type": "code",
      "metadata": {
        "id": "85eeed9a",
        "outputId": "85de2cfa-d08d-499f-e86c-22eee6338f0b"
      },
      "source": [
        "a = np.array((1,2,3))\n",
        "b = np.array((7,8,9))\n",
        "print(a)\n",
        "print(b)\n",
        "\n",
        "print(\"vstack\\n\")\n",
        "print(np.vstack((a,b)))\n",
        "print(\"concatenate\\n\")\n",
        "print(np.concatenate([a.reshape(1,3),b.reshape(1,3)]))\n",
        "print(\"stack\\n\")\n",
        "print(np.stack((a,b),axis=1))\n",
        "print(\"concatenate\\n\")\n",
        "print(np.concatenate((a.reshape(1,3),b.reshape(1,3)),axis = 1))\n",
        "print(\"stack\\n\")\n",
        "print(np.stack((a,b),axis=0))\n",
        "print(\"concatenate\\n\")\n",
        "print(np.concatenate((a.reshape(1,3),b.reshape(1,3)),axis = 0))"
      ],
      "id": "85eeed9a",
      "execution_count": null,
      "outputs": [
        {
          "name": "stdout",
          "output_type": "stream",
          "text": [
            "[1 2 3]\n",
            "[7 8 9]\n",
            "vstack\n",
            "\n",
            "[[1 2 3]\n",
            " [7 8 9]]\n",
            "concatenate\n",
            "\n",
            "[[1 2 3]\n",
            " [7 8 9]]\n",
            "stack\n",
            "\n",
            "[[1 7]\n",
            " [2 8]\n",
            " [3 9]]\n",
            "concatenate\n",
            "\n",
            "[[1 2 3 7 8 9]]\n",
            "stack\n",
            "\n",
            "[[1 2 3]\n",
            " [7 8 9]]\n",
            "concatenate\n",
            "\n",
            "[[1 2 3]\n",
            " [7 8 9]]\n"
          ]
        }
      ]
    },
    {
      "cell_type": "code",
      "metadata": {
        "id": "b2db6c43"
      },
      "source": [
        ""
      ],
      "id": "b2db6c43",
      "execution_count": null,
      "outputs": []
    }
  ]
}