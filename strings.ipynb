{
  "nbformat": 4,
  "nbformat_minor": 0,
  "metadata": {
    "colab": {
      "name": "strings.ipynb",
      "provenance": [],
      "collapsed_sections": [],
      "authorship_tag": "ABX9TyPRSwy4N/uPX+c1UWSSlNYn",
      "include_colab_link": true
    },
    "kernelspec": {
      "name": "python3",
      "display_name": "Python 3"
    },
    "language_info": {
      "name": "python"
    }
  },
  "cells": [
    {
      "cell_type": "markdown",
      "metadata": {
        "id": "view-in-github",
        "colab_type": "text"
      },
      "source": [
        "<a href=\"https://colab.research.google.com/github/AnnaAsritha/Dap-files/blob/main/strings.ipynb\" target=\"_parent\"><img src=\"https://colab.research.google.com/assets/colab-badge.svg\" alt=\"Open In Colab\"/></a>"
      ]
    },
    {
      "cell_type": "code",
      "metadata": {
        "colab": {
          "base_uri": "https://localhost:8080/"
        },
        "id": "wIDD3vrYzAHi",
        "outputId": "e7842eb2-e5f1-4609-8c7e-8fcb24cca581"
      },
      "source": [
        "print (\"Python is really a great language,\", \"isn't it?\")"
      ],
      "execution_count": null,
      "outputs": [
        {
          "output_type": "stream",
          "name": "stdout",
          "text": [
            "Python is really a great language, isn't it?\n"
          ]
        }
      ]
    },
    {
      "cell_type": "code",
      "metadata": {
        "colab": {
          "base_uri": "https://localhost:8080/"
        },
        "id": "twsDxXDUzE6h",
        "outputId": "989efc06-821e-4fc6-e7e0-b29949f6e18d"
      },
      "source": [
        "str = input(\"Enter your input: \")\n",
        "print (\"Received input is : \", str)"
      ],
      "execution_count": null,
      "outputs": [
        {
          "output_type": "stream",
          "name": "stdout",
          "text": [
            "Enter your input: asritha\n",
            "Received input is :  asritha\n"
          ]
        }
      ]
    },
    {
      "cell_type": "code",
      "metadata": {
        "colab": {
          "base_uri": "https://localhost:8080/"
        },
        "id": "T35boLU4zJW5",
        "outputId": "66077607-7a45-470f-ae03-cc4317afbfe4"
      },
      "source": [
        "# Open a file\n",
        "fo = open(\"cse7sem.txt\", \"wb\")\n",
        "print (\"Name of the file: \", fo.name)\n",
        "\n",
        "# Close opend file\n",
        "fo.close()"
      ],
      "execution_count": null,
      "outputs": [
        {
          "output_type": "stream",
          "name": "stdout",
          "text": [
            "Name of the file:  cse7sem.txt\n"
          ]
        }
      ]
    },
    {
      "cell_type": "code",
      "metadata": {
        "id": "yhyqpmFy2ICF",
        "colab": {
          "base_uri": "https://localhost:8080/"
        },
        "outputId": "df07a373-6708-4418-9adf-28b5619dce38"
      },
      "source": [
        "f = open(\"cse7sem1.txt\", \"a\")\n",
        "f.write(\"asritha\")\n",
        "f.close()\n",
        "\n",
        "#open and read the file after the appending:\n",
        "f = open(\"cse7sem1.txt\", \"r\")\n",
        "print(f.read()) "
      ],
      "execution_count": null,
      "outputs": [
        {
          "output_type": "stream",
          "name": "stdout",
          "text": [
            "ayushiasrithaasrithasharmaasritha\n"
          ]
        }
      ]
    },
    {
      "cell_type": "code",
      "metadata": {
        "id": "UB_O3dlozRW5"
      },
      "source": [
        "fo = open(\"cse7sem.txt\", \"wb\")\n",
        "print (\"Name of the file: \", fo.name)\n",
        "print (\"Closed or not : \", fo.closed)\n",
        "print (\"Opening mode : \", fo.mode)\n",
        "\n"
      ],
      "execution_count": null,
      "outputs": []
    },
    {
      "cell_type": "code",
      "metadata": {
        "colab": {
          "base_uri": "https://localhost:8080/"
        },
        "id": "i9lCtBMazYNy",
        "outputId": "25beb83b-be00-4595-c08c-c46a070c0442"
      },
      "source": [
        "# Open a file\n",
        "fo = open(\"cse7sem1.txt\", \"r+\")\n",
        "\n",
        "str = fo.read(10)\n",
        "print (\"Read String is : \", str) #shabnamsha---output\n",
        "\n",
        "# Check current position\n",
        "position = fo.tell()\n",
        "print (\"Current file position : \", position)\n",
        "\n",
        "# Reposition pointer at the beginning once again\n",
        "position = fo.seek(1, 0);\n",
        "str = fo.read(7)\n",
        "print (\"Again read String is : \", str)\n",
        "\n",
        "ptr=fo.seek(0,1)\n",
        "str1=fo.read(3)\n",
        "print(\"my new string= \", str1)\n",
        "\n",
        "# Close opened file\n",
        "fo.close()"
      ],
      "execution_count": null,
      "outputs": [
        {
          "output_type": "stream",
          "name": "stdout",
          "text": [
            "Read String is :  ayushi\n",
            "Current file position :  6\n",
            "Again read String is :  yushi\n",
            "my new string=  \n"
          ]
        }
      ]
    },
    {
      "cell_type": "code",
      "metadata": {
        "id": "ZiN_KKpYzcEz"
      },
      "source": [
        ""
      ],
      "execution_count": null,
      "outputs": []
    }
  ]
}