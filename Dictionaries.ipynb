{
  "nbformat": 4,
  "nbformat_minor": 5,
  "metadata": {
    "kernelspec": {
      "display_name": "Python 3",
      "language": "python",
      "name": "python3"
    },
    "language_info": {
      "codemirror_mode": {
        "name": "ipython",
        "version": 3
      },
      "file_extension": ".py",
      "mimetype": "text/x-python",
      "name": "python",
      "nbconvert_exporter": "python",
      "pygments_lexer": "ipython3",
      "version": "3.8.8"
    },
    "colab": {
      "name": "Copy of Dictionaries.ipynb",
      "provenance": [],
      "include_colab_link": true
    }
  },
  "cells": [
    {
      "cell_type": "markdown",
      "metadata": {
        "id": "view-in-github",
        "colab_type": "text"
      },
      "source": [
        "<a href=\"https://colab.research.google.com/github/AnnaAsritha/Dap-files/blob/main/Dictionaries.ipynb\" target=\"_parent\"><img src=\"https://colab.research.google.com/assets/colab-badge.svg\" alt=\"Open In Colab\"/></a>"
      ]
    },
    {
      "cell_type": "code",
      "metadata": {
        "id": "f9e29d38",
        "colab": {
          "base_uri": "https://localhost:8080/"
        },
        "outputId": "736eaaa0-7bac-4215-aee3-91c72c79ac61"
      },
      "source": [
        "dict={'name':'asritha','designation':'AsP','qual':'phd','univ':'cmr'}\n",
        "print(dict['name'])\n",
        "\n",
        "\n",
        "print(dict['qual'])"
      ],
      "id": "f9e29d38",
      "execution_count": 1,
      "outputs": [
        {
          "output_type": "stream",
          "name": "stdout",
          "text": [
            "asritha\n",
            "phd\n"
          ]
        }
      ]
    },
    {
      "cell_type": "code",
      "metadata": {
        "id": "dae64caa",
        "colab": {
          "base_uri": "https://localhost:8080/"
        },
        "outputId": "66514318-7c37-411e-c558-e485c17ce80d"
      },
      "source": [
        "dict={'name':'asritha','designation':'AsP','qual':'phd','univ':'cmr'}\n",
        "\n",
        "dict['name']='pandu'\n",
        "\n",
        "print(dict['name'])\n",
        "\n",
        "dict['class']='cse7sem'\n",
        "\n",
        "print(dict['class'])\n",
        "\n"
      ],
      "id": "dae64caa",
      "execution_count": 10,
      "outputs": [
        {
          "output_type": "stream",
          "name": "stdout",
          "text": [
            "pandu\n",
            "cse7sem\n"
          ]
        }
      ]
    },
    {
      "cell_type": "code",
      "metadata": {
        "id": "a812e5e4"
      },
      "source": [
        "dict={'name':'asritha','designation':'AsP','qual':'phd','univ':'cmr'}\n",
        "\n",
        "\n",
        "del dict['designation']\n",
        "\n",
        "#print(dict['designation'])\n",
        "\n",
        "dict.clear()\n",
        "\n",
        "#print(dict['name'])\n",
        "\n",
        "del dict"
      ],
      "id": "a812e5e4",
      "execution_count": 8,
      "outputs": []
    },
    {
      "cell_type": "code",
      "metadata": {
        "id": "fd8f8734",
        "colab": {
          "base_uri": "https://localhost:8080/"
        },
        "outputId": "e8111079-b7d0-4463-80fa-18ba45de04ac"
      },
      "source": [
        "dict={'name':'asritha','designation':'AsP','qual':'phd','univ':'cmr', 'name':'Nishitha'}\n",
        "\n",
        "\n",
        "print(dict['name'])\n",
        "\n",
        "print(len(dict))"
      ],
      "id": "fd8f8734",
      "execution_count": 7,
      "outputs": [
        {
          "output_type": "stream",
          "name": "stdout",
          "text": [
            "Nishitha\n",
            "4\n"
          ]
        }
      ]
    },
    {
      "cell_type": "code",
      "metadata": {
        "id": "7a9cf5ae",
        "outputId": "7438b85c-2e28-4417-e72a-306405a6a33e"
      },
      "source": [
        "dict={'name':'asritha','designation':'AsP','qual':'phd','univ':'cmr', 'name':'Nishitha'}\n",
        "\n",
        "\n",
        "print(dict.values())\n",
        "\n",
        "print(dict.items())\n",
        "\n",
        "print(dict.keys())"
      ],
      "id": "7a9cf5ae",
      "execution_count": null,
      "outputs": [
        {
          "name": "stdout",
          "output_type": "stream",
          "text": [
            "dict_values(['Nishitha', 'AsP', 'phd', 'cmr'])\n",
            "dict_items([('name', 'Nishitha'), ('designation', 'AsP'), ('qual', 'phd'), ('univ', 'cmr')])\n",
            "dict_keys(['name', 'designation', 'qual', 'univ'])\n"
          ]
        }
      ]
    },
    {
      "cell_type": "code",
      "metadata": {
        "id": "2842e9db",
        "colab": {
          "base_uri": "https://localhost:8080/"
        },
        "outputId": "8552c5a6-f23d-4d71-b7f6-4cfed3bda965"
      },
      "source": [
        "dict={'name':'asritha','designation':'AsP','qual':'phd','univ':'cmr', 'name':'pandu'}\n",
        "\n",
        "\n",
        "print(dict['name'])\n",
        "\n",
        "print(dict.get('edu',\"nothing\"))\n",
        "\n",
        "\n"
      ],
      "id": "2842e9db",
      "execution_count": 6,
      "outputs": [
        {
          "output_type": "stream",
          "name": "stdout",
          "text": [
            "pandu\n",
            "nothing\n"
          ]
        }
      ]
    },
    {
      "cell_type": "code",
      "metadata": {
        "id": "243dda29",
        "colab": {
          "base_uri": "https://localhost:8080/"
        },
        "outputId": "218af015-507e-4fcf-ce97-45d2490ed651"
      },
      "source": [
        "dict={'name':'asritha','designation':'AsP','qual':'phd','univ':'cmr', 'name':'pandu'}\n",
        "\n",
        "\n",
        "dict2=dict.copy()\n",
        "\n",
        "print(dict2['name'])\n",
        "\n",
        "print(len(dict2))"
      ],
      "id": "243dda29",
      "execution_count": 5,
      "outputs": [
        {
          "output_type": "stream",
          "name": "stdout",
          "text": [
            "pandu\n",
            "4\n"
          ]
        }
      ]
    },
    {
      "cell_type": "code",
      "metadata": {
        "id": "6a57403b",
        "colab": {
          "base_uri": "https://localhost:8080/"
        },
        "outputId": "60017881-ee0e-468f-a63f-99f7a111155f"
      },
      "source": [
        "dict={'name':'asritha','designation':'AsP','qual':'phd','univ':'cmr', 'name':'pandu'}\n",
        "\n",
        "\n",
        "dict2={'edu':'btech-mtech','students':'7sem'}\n",
        "\n",
        "print(dict)\n",
        "print(dict2)\n",
        "\n",
        "dict.update(dict2)\n",
        "\n",
        "print(dict)"
      ],
      "id": "6a57403b",
      "execution_count": 4,
      "outputs": [
        {
          "output_type": "stream",
          "name": "stdout",
          "text": [
            "{'name': 'pandu', 'designation': 'AsP', 'qual': 'phd', 'univ': 'cmr'}\n",
            "{'edu': 'btech-mtech', 'students': '7sem'}\n",
            "{'name': 'pandu', 'designation': 'AsP', 'qual': 'phd', 'univ': 'cmr', 'edu': 'btech-mtech', 'students': '7sem'}\n"
          ]
        }
      ]
    },
    {
      "cell_type": "code",
      "metadata": {
        "id": "4e542941"
      },
      "source": [
        ""
      ],
      "id": "4e542941",
      "execution_count": null,
      "outputs": []
    }
  ]
}