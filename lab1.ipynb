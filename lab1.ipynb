{
  "nbformat": 4,
  "nbformat_minor": 0,
  "metadata": {
    "colab": {
      "name": "lab1.ipynb",
      "provenance": [],
      "authorship_tag": "ABX9TyPS5ch4eqGo3gA34z6W3dH7",
      "include_colab_link": true
    },
    "kernelspec": {
      "name": "python3",
      "display_name": "Python 3"
    },
    "language_info": {
      "name": "python"
    }
  },
  "cells": [
    {
      "cell_type": "markdown",
      "metadata": {
        "id": "view-in-github",
        "colab_type": "text"
      },
      "source": [
        "<a href=\"https://colab.research.google.com/github/AnnaAsritha/Dap-files/blob/main/lab1.ipynb\" target=\"_parent\"><img src=\"https://colab.research.google.com/assets/colab-badge.svg\" alt=\"Open In Colab\"/></a>"
      ]
    },
    {
      "cell_type": "code",
      "metadata": {
        "id": "HlYKb9JayRgP",
        "colab": {
          "base_uri": "https://localhost:8080/"
        },
        "outputId": "e6c48292-02f1-4ea6-8231-5e24810a24a1"
      },
      "source": [
        "import numpy as np\n",
        "\n",
        "a=np.array(9)\n",
        "\n",
        "print(\"Print A= \",a)\n",
        "\n",
        "b=np.array([10,20,30])\n",
        "\n",
        "print(\"Print B= \", b)\n",
        "\n",
        "addition= np.add(a,b)\n",
        "\n",
        "print(\"After Addition =\", addition)\n",
        "\n",
        "sub=np.subtract(b,a)\n",
        "\n",
        "print(\"After Subtraction =\",sub)\n",
        "\n",
        "mul=np.multiply (a,b)\n",
        "\n",
        "print(\"After Multiplcation =\",mul)\n",
        "\n",
        "div=np.divide (b,a)\n",
        "\n",
        "print(\"After Division =\",div)\n",
        "\n",
        "div1=np.divide (b,5)\n",
        "\n",
        "print(\"After Division =\",div1)"
      ],
      "execution_count": null,
      "outputs": [
        {
          "output_type": "stream",
          "name": "stdout",
          "text": [
            "Print A=  9\n",
            "Print B=  [10 20 30]\n",
            "After Addition = [19 29 39]\n",
            "After Subtraction = [ 1 11 21]\n",
            "After Multiplcation = [ 90 180 270]\n",
            "After Division = [1.11111111 2.22222222 3.33333333]\n",
            "After Division = [2. 4. 6.]\n"
          ]
        }
      ]
    }
  ]
}